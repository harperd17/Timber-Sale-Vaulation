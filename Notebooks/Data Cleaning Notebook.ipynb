{
 "cells": [
  {
   "cell_type": "code",
   "execution_count": 1,
   "metadata": {},
   "outputs": [],
   "source": [
    "import pandas as pd\n",
    "import numpy as np\n",
    "import math"
   ]
  },
  {
   "cell_type": "code",
   "execution_count": 2,
   "metadata": {},
   "outputs": [],
   "source": [
    "tc_df = pd.read_csv('Data/Timber Contract Data.csv')"
   ]
  },
  {
   "cell_type": "markdown",
   "metadata": {},
   "source": [
    "# Data Cleaning"
   ]
  },
  {
   "cell_type": "code",
   "execution_count": 3,
   "metadata": {},
   "outputs": [],
   "source": [
    "#only keeping certain variables\n",
    "variables_to_keep = ['Contract Identifier','State Office Code','Contract Term','Acres Current','Mbf Current','Ccf Current','Value Sold']\n",
    "tc_df_subset = tc_df[variables_to_keep]"
   ]
  },
  {
   "cell_type": "code",
   "execution_count": 4,
   "metadata": {},
   "outputs": [],
   "source": [
    "#Taking out the rows for which 'Value Sold' is 0\n",
    "tc_df_subset = tc_df_subset[tc_df_subset['Value Sold']!=0]\n",
    "#Taking out entries where value sold is nan\n",
    "tc_df_subset = tc_df_subset[tc_df_subset['Value Sold'].notnull()]\n",
    "#Reindexing for later use\n",
    "tc_df_subset = tc_df_subset.reset_index(drop=True)"
   ]
  },
  {
   "cell_type": "code",
   "execution_count": 5,
   "metadata": {},
   "outputs": [],
   "source": [
    "#Creating a log showing where variables are either 'nan' or blank\n",
    "list_of_lists = []\n",
    "log = []*len(variables_to_keep)\n",
    "for i in range(len(variables_to_keep)):\n",
    "    list_of_lists.append(tc_df_subset[variables_to_keep[i]])\n",
    "for i in range(len(variables_to_keep)):\n",
    "    temp = []\n",
    "    for j in range(len(list_of_lists[i])):\n",
    "        if str(list_of_lists[i][j]) == \"\" or str(list_of_lists[i][j])==\"nan\":\n",
    "            temp.append([variables_to_keep[i],j,str(list_of_lists[i][j])])\n",
    "    log.append(temp)"
   ]
  },
  {
   "cell_type": "code",
   "execution_count": 6,
   "metadata": {},
   "outputs": [
    {
     "name": "stdout",
     "output_type": "stream",
     "text": [
      "11\n",
      "101\n",
      "0\n",
      "90\n"
     ]
    }
   ],
   "source": [
    "#going through and recording the indeces for which Mbf an CCf terms are either blank or nan\n",
    "Mbf_terms = []\n",
    "Ccf_terms = []\n",
    "for i in range(len(log[4])):\n",
    "    Mbf_terms.append(log[4][i][1])\n",
    "for i in range(len(log[5])):\n",
    "    Ccf_terms.append(log[5][i][1])\n",
    "\n",
    "#check to see if the terms are mostly overlapping\n",
    "check_mbf = []\n",
    "for i in Mbf_terms:\n",
    "    if i in Ccf_terms:\n",
    "        check_mbf.append(0)\n",
    "    else:\n",
    "        check_mbf.append(1)\n",
    "check_ccf = []\n",
    "for i in Ccf_terms:\n",
    "    if i in Mbf_terms:\n",
    "        check_ccf.append(0)\n",
    "    else:\n",
    "        check_ccf.append(1)\n",
    "\n",
    "print(sum(check_mbf))\n",
    "print(len(check_mbf))\n",
    "print(sum(check_ccf))\n",
    "print(len(check_ccf))"
   ]
  },
  {
   "cell_type": "code",
   "execution_count": 7,
   "metadata": {},
   "outputs": [],
   "source": [
    "#this shows that the terms with blank or nan or mostly overlapping which is good and will mean less loss of data\n",
    "#I will go ahead and delete these rows from the dataframe and then reindex\n",
    "indeces_to_delete = []\n",
    "for i in Mbf_terms:\n",
    "    indeces_to_delete.append(i)\n",
    "for i in Ccf_terms:\n",
    "    if i not in indeces_to_delete:\n",
    "        indeces_to_delete.append(i)\n",
    "tc_df_subset = tc_df_subset.drop(indeces_to_delete)\n",
    "tc_df_subset = tc_df_subset.reset_index(drop=True)"
   ]
  },
  {
   "cell_type": "code",
   "execution_count": 8,
   "metadata": {},
   "outputs": [],
   "source": [
    "#---------------treatment of timber contracts dataframe----------------------------\n",
    "#now the first goal is going to be getting out one row of data per unique contract identifier\n",
    "#since each quarter provides an update for all contracts not terminated, many contracts will be listed more than once\n",
    "#Also, the factors associated with them will be changing as the logging process incurrs\n",
    "#So for items like Acres Current and Mbf Current and CCf Current, these values will mostly be decreasing as time goes by and more\n",
    "#trees have been felled. However, in some instances it will be increasing as sometimes the original estimates of MBF and CCF were too low\n",
    "#and the estimates go up. Therefore, to get the original estimate of acres, MBF, and CCF I will only keep the bottom row for\n",
    "#each unique contract identifier\n",
    "\n",
    "unique_contract_identifiers = np.unique(tc_df_subset['Contract Identifier'])\n",
    "\n",
    "indeces_to_keep = []\n",
    "for contractid in unique_contract_identifiers:\n",
    "    new_subset = tc_df_subset[tc_df_subset['Contract Identifier']==contractid]\n",
    "    new_subset_indeces = new_subset.index\n",
    "    indeces_to_keep.append(new_subset_indeces[-1])\n",
    "    \n",
    "new_tc_df = tc_df_subset.loc[indeces_to_keep,:]\n",
    "\n",
    "new_tc_df = new_tc_df.reset_index(drop=True)"
   ]
  },
  {
   "cell_type": "markdown",
   "metadata": {},
   "source": [
    "# Standardizing and Scaling Features"
   ]
  },
  {
   "cell_type": "code",
   "execution_count": 9,
   "metadata": {},
   "outputs": [],
   "source": [
    "#function that takes in a variable as a pandas series and returns the standardized values in a pandas series. \n",
    "#Standardization is done using the mean and standard deviation\n",
    "def standardize(variable):\n",
    "    mean = sum(variable)/len(variable)\n",
    "    total_var = 0\n",
    "    for i in variable:\n",
    "        total_var = total_var + (i-mean)*(i-mean)\n",
    "    std = math.sqrt(total_var/len(variable))\n",
    "    \n",
    "    standardized_variable = []\n",
    "    for i in variable:\n",
    "        standardized_variable.append((i-mean)/std)\n",
    "    return pd.Series(standardized_variable)"
   ]
  },
  {
   "cell_type": "code",
   "execution_count": 10,
   "metadata": {},
   "outputs": [],
   "source": [
    "new_tc_df['Value Sold Standardized'] = standardize(new_tc_df['Value Sold'])\n",
    "new_tc_df['Acres Current Standardized'] = standardize(new_tc_df['Acres Current'])\n",
    "new_tc_df['Mbf Current Standardized'] = standardize(new_tc_df['Mbf Current'])\n",
    "new_tc_df['Ccf Current Standardized'] = standardize(new_tc_df['Ccf Current'])"
   ]
  },
  {
   "cell_type": "code",
   "execution_count": 11,
   "metadata": {},
   "outputs": [],
   "source": [
    "new_tc_df['Value Sold sqrt standardized'] = standardize(np.sqrt(new_tc_df['Value Sold']))\n",
    "new_tc_df['Value Sold log standardized'] = standardize(np.log(new_tc_df['Value Sold']))"
   ]
  },
  {
   "cell_type": "markdown",
   "metadata": {},
   "source": [
    "# Engineered Features"
   ]
  },
  {
   "cell_type": "code",
   "execution_count": 12,
   "metadata": {},
   "outputs": [],
   "source": [
    "#creating a feature for the combination of Ccf and Mbf\n",
    "new_tc_df['Ccf Mbf'] = (new_tc_df['Mbf Current Standardized']+new_tc_df['Ccf Current Standardized'])/2"
   ]
  },
  {
   "cell_type": "code",
   "execution_count": 13,
   "metadata": {},
   "outputs": [],
   "source": [
    "#creating a feature for the combination of the the standardized interactions between Acres and Ccf and Acres and Mbf\n",
    "acres_ccf_standardized = standardize(new_tc_df['Acres Current']*new_tc_df['Ccf Current'])\n",
    "acres_mbf_standardized = standardize(new_tc_df['Acres Current']*new_tc_df['Mbf Current'])\n",
    "new_tc_df['Acre Volume'] = (acres_ccf_standardized+acres_mbf_standardized)/2"
   ]
  },
  {
   "cell_type": "markdown",
   "metadata": {},
   "source": [
    "# Encoding Qualitative Features"
   ]
  },
  {
   "cell_type": "code",
   "execution_count": 14,
   "metadata": {},
   "outputs": [],
   "source": [
    "#creates dummy variables for the qualitative features. takes in pandas series and returns a pandas dataframe of the\n",
    "#dummy variables.\n",
    "def encodeQualitative(variable):\n",
    "    unique_values = np.unique(variable)\n",
    "    new_vars = []\n",
    "    for i in range(len(variable)):\n",
    "        new_line = []\n",
    "        for j in range(len(unique_values)-1):\n",
    "            if variable[i] == unique_values[j]:\n",
    "                new_line.append(1)\n",
    "            else:\n",
    "                new_line.append(0)\n",
    "        new_vars.append(new_line)\n",
    "    new_vars_df = pd.DataFrame(new_vars,columns=unique_values[:-1])\n",
    "    return new_vars_df"
   ]
  },
  {
   "cell_type": "code",
   "execution_count": 15,
   "metadata": {},
   "outputs": [],
   "source": [
    "new_state_vars = encodeQualitative(new_tc_df['State Office Code'])\n",
    "new_tc_df = pd.concat([new_tc_df,new_state_vars],axis=1)"
   ]
  },
  {
   "cell_type": "markdown",
   "metadata": {},
   "source": [
    "# Interaction Terms"
   ]
  },
  {
   "cell_type": "code",
   "execution_count": 16,
   "metadata": {},
   "outputs": [],
   "source": [
    "#making an interaction term between Ccf Mbf and each state dummy variable\n",
    "state_columns = new_state_vars.columns\n",
    "new_state_columns = []\n",
    "state_interactions = []\n",
    "#creating the state interaction labels\n",
    "for c in state_columns:\n",
    "    new_state_columns.append(c+\" Ccf Mbf\")\n",
    "#creating the interaction terms\n",
    "for i in range(len(new_tc_df['Ccf Mbf'])):\n",
    "    state_interactions.append(list(new_state_vars.loc[i,:]*new_tc_df.loc[i,'Ccf Mbf']))\n",
    "    \n",
    "new_state_interactions = pd.DataFrame(state_interactions,columns=new_state_columns)\n",
    "new_tc_df = pd.concat([new_tc_df,new_state_interactions],axis=1)"
   ]
  },
  {
   "cell_type": "markdown",
   "metadata": {},
   "source": [
    "# Writing Cleaned Data Set"
   ]
  },
  {
   "cell_type": "code",
   "execution_count": 17,
   "metadata": {},
   "outputs": [],
   "source": [
    "#now I will write this data to a new csv file that will be uploaded for the next sections - visualizations and analysis\n",
    "new_tc_df.to_csv('Cleaned Timber Data.csv',index=False)"
   ]
  },
  {
   "cell_type": "code",
   "execution_count": null,
   "metadata": {},
   "outputs": [],
   "source": []
  }
 ],
 "metadata": {
  "kernelspec": {
   "display_name": "Python 3",
   "language": "python",
   "name": "python3"
  },
  "language_info": {
   "codemirror_mode": {
    "name": "ipython",
    "version": 3
   },
   "file_extension": ".py",
   "mimetype": "text/x-python",
   "name": "python",
   "nbconvert_exporter": "python",
   "pygments_lexer": "ipython3",
   "version": "3.7.1"
  }
 },
 "nbformat": 4,
 "nbformat_minor": 4
}
